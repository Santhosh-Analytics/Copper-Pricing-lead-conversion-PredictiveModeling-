{
 "cells": [
  {
   "cell_type": "markdown",
   "metadata": {},
   "source": [
    "# Industrial Copper Modeling"
   ]
  },
  {
   "cell_type": "code",
   "execution_count": 1,
   "metadata": {},
   "outputs": [],
   "source": [
    "import pandas as pd\n",
    "import seaborn as sns\n",
    "import matplotlib.pyplot as plt\n",
    "import numpy as np"
   ]
  },
  {
   "cell_type": "code",
   "execution_count": 2,
   "metadata": {},
   "outputs": [
    {
     "name": "stdout",
     "output_type": "stream",
     "text": [
      "<class 'pandas.core.frame.DataFrame'>\n",
      "RangeIndex: 181673 entries, 0 to 181672\n",
      "Data columns (total 14 columns):\n",
      " #   Column         Non-Null Count   Dtype  \n",
      "---  ------         --------------   -----  \n",
      " 0   id             181671 non-null  object \n",
      " 1   item_date      181672 non-null  float64\n",
      " 2   quantity tons  181673 non-null  object \n",
      " 3   customer       181672 non-null  float64\n",
      " 4   country        181645 non-null  float64\n",
      " 5   status         181671 non-null  object \n",
      " 6   item type      181673 non-null  object \n",
      " 7   application    181649 non-null  float64\n",
      " 8   thickness      181672 non-null  float64\n",
      " 9   width          181673 non-null  float64\n",
      " 10  material_ref   103754 non-null  object \n",
      " 11  product_ref    181673 non-null  int64  \n",
      " 12  delivery date  181672 non-null  float64\n",
      " 13  selling_price  181672 non-null  float64\n",
      "dtypes: float64(8), int64(1), object(5)\n",
      "memory usage: 19.4+ MB\n",
      "None\n"
     ]
    }
   ],
   "source": [
    "df=pd.read_excel('Copper_Set.xlsx')\n",
    "print(df.info())"
   ]
  },
  {
   "cell_type": "code",
   "execution_count": 54,
   "metadata": {},
   "outputs": [
    {
     "data": {
      "text/html": [
       "<div>\n",
       "<style scoped>\n",
       "    .dataframe tbody tr th:only-of-type {\n",
       "        vertical-align: middle;\n",
       "    }\n",
       "\n",
       "    .dataframe tbody tr th {\n",
       "        vertical-align: top;\n",
       "    }\n",
       "\n",
       "    .dataframe thead th {\n",
       "        text-align: right;\n",
       "    }\n",
       "</style>\n",
       "<table border=\"1\" class=\"dataframe\">\n",
       "  <thead>\n",
       "    <tr style=\"text-align: right;\">\n",
       "      <th></th>\n",
       "      <th>id</th>\n",
       "      <th>item_date</th>\n",
       "      <th>quantity tons</th>\n",
       "      <th>customer</th>\n",
       "      <th>country</th>\n",
       "      <th>status</th>\n",
       "      <th>item type</th>\n",
       "      <th>application</th>\n",
       "      <th>thickness</th>\n",
       "      <th>width</th>\n",
       "      <th>material_ref</th>\n",
       "      <th>product_ref</th>\n",
       "      <th>delivery date</th>\n",
       "      <th>selling_price</th>\n",
       "    </tr>\n",
       "  </thead>\n",
       "  <tbody>\n",
       "    <tr>\n",
       "      <th>0</th>\n",
       "      <td>EC06F063-9DF0-440C-8764-0B0C05A4F6AE</td>\n",
       "      <td>20210401.0</td>\n",
       "      <td>54.151139</td>\n",
       "      <td>30156308.0</td>\n",
       "      <td>28.0</td>\n",
       "      <td>Won</td>\n",
       "      <td>W</td>\n",
       "      <td>10.0</td>\n",
       "      <td>2.00</td>\n",
       "      <td>1500.0</td>\n",
       "      <td>DEQ1 S460MC</td>\n",
       "      <td>1670798778</td>\n",
       "      <td>20210701.0</td>\n",
       "      <td>854.00</td>\n",
       "    </tr>\n",
       "    <tr>\n",
       "      <th>1</th>\n",
       "      <td>4E5F4B3D-DDDF-499D-AFDE-A3227EC49425</td>\n",
       "      <td>20210401.0</td>\n",
       "      <td>768.024839</td>\n",
       "      <td>30202938.0</td>\n",
       "      <td>25.0</td>\n",
       "      <td>Won</td>\n",
       "      <td>W</td>\n",
       "      <td>41.0</td>\n",
       "      <td>0.80</td>\n",
       "      <td>1210.0</td>\n",
       "      <td>NaN</td>\n",
       "      <td>1668701718</td>\n",
       "      <td>20210401.0</td>\n",
       "      <td>1047.00</td>\n",
       "    </tr>\n",
       "    <tr>\n",
       "      <th>2</th>\n",
       "      <td>E140FF1B-2407-4C02-A0DD-780A093B1158</td>\n",
       "      <td>20210401.0</td>\n",
       "      <td>386.127949</td>\n",
       "      <td>30153963.0</td>\n",
       "      <td>30.0</td>\n",
       "      <td>Won</td>\n",
       "      <td>WI</td>\n",
       "      <td>28.0</td>\n",
       "      <td>0.38</td>\n",
       "      <td>952.0</td>\n",
       "      <td>S0380700</td>\n",
       "      <td>628377</td>\n",
       "      <td>20210101.0</td>\n",
       "      <td>644.33</td>\n",
       "    </tr>\n",
       "    <tr>\n",
       "      <th>3</th>\n",
       "      <td>F8D507A0-9C62-4EFE-831E-33E1DA53BB50</td>\n",
       "      <td>20210401.0</td>\n",
       "      <td>202.411065</td>\n",
       "      <td>30349574.0</td>\n",
       "      <td>32.0</td>\n",
       "      <td>Won</td>\n",
       "      <td>S</td>\n",
       "      <td>59.0</td>\n",
       "      <td>2.30</td>\n",
       "      <td>1317.0</td>\n",
       "      <td>DX51D+ZM310MAO 2.3X1317</td>\n",
       "      <td>1668701718</td>\n",
       "      <td>20210101.0</td>\n",
       "      <td>768.00</td>\n",
       "    </tr>\n",
       "    <tr>\n",
       "      <th>4</th>\n",
       "      <td>4E1C4E78-152B-430A-8094-ADD889C9D0AD</td>\n",
       "      <td>20210401.0</td>\n",
       "      <td>785.526262</td>\n",
       "      <td>30211560.0</td>\n",
       "      <td>28.0</td>\n",
       "      <td>Won</td>\n",
       "      <td>W</td>\n",
       "      <td>10.0</td>\n",
       "      <td>4.00</td>\n",
       "      <td>2000.0</td>\n",
       "      <td>2_S275JR+AR-CL1</td>\n",
       "      <td>640665</td>\n",
       "      <td>20210301.0</td>\n",
       "      <td>577.00</td>\n",
       "    </tr>\n",
       "  </tbody>\n",
       "</table>\n",
       "</div>"
      ],
      "text/plain": [
       "                                     id   item_date quantity tons    customer  \\\n",
       "0  EC06F063-9DF0-440C-8764-0B0C05A4F6AE  20210401.0     54.151139  30156308.0   \n",
       "1  4E5F4B3D-DDDF-499D-AFDE-A3227EC49425  20210401.0    768.024839  30202938.0   \n",
       "2  E140FF1B-2407-4C02-A0DD-780A093B1158  20210401.0    386.127949  30153963.0   \n",
       "3  F8D507A0-9C62-4EFE-831E-33E1DA53BB50  20210401.0    202.411065  30349574.0   \n",
       "4  4E1C4E78-152B-430A-8094-ADD889C9D0AD  20210401.0    785.526262  30211560.0   \n",
       "\n",
       "   country status item type  application  thickness   width  \\\n",
       "0     28.0    Won         W         10.0       2.00  1500.0   \n",
       "1     25.0    Won         W         41.0       0.80  1210.0   \n",
       "2     30.0    Won        WI         28.0       0.38   952.0   \n",
       "3     32.0    Won         S         59.0       2.30  1317.0   \n",
       "4     28.0    Won         W         10.0       4.00  2000.0   \n",
       "\n",
       "              material_ref  product_ref  delivery date  selling_price  \n",
       "0              DEQ1 S460MC   1670798778     20210701.0         854.00  \n",
       "1                      NaN   1668701718     20210401.0        1047.00  \n",
       "2                 S0380700       628377     20210101.0         644.33  \n",
       "3  DX51D+ZM310MAO 2.3X1317   1668701718     20210101.0         768.00  \n",
       "4          2_S275JR+AR-CL1       640665     20210301.0         577.00  "
      ]
     },
     "execution_count": 54,
     "metadata": {},
     "output_type": "execute_result"
    }
   ],
   "source": [
    "df1=df.copy()\n",
    "df1.head()"
   ]
  },
  {
   "cell_type": "code",
   "execution_count": 55,
   "metadata": {},
   "outputs": [],
   "source": [
    "col_name={'quantity tons':'quantity_tons','item type':'item_type','delivery date':'delivery_date'}\n",
    "df1.rename(columns=col_name, inplace=True)\n"
   ]
  },
  {
   "cell_type": "code",
   "execution_count": 56,
   "metadata": {},
   "outputs": [
    {
     "name": "stdout",
     "output_type": "stream",
     "text": [
      "<class 'pandas.core.frame.DataFrame'>\n",
      "RangeIndex: 181673 entries, 0 to 181672\n",
      "Data columns (total 14 columns):\n",
      " #   Column         Non-Null Count   Dtype  \n",
      "---  ------         --------------   -----  \n",
      " 0   id             181671 non-null  object \n",
      " 1   item_date      181672 non-null  float64\n",
      " 2   quantity_tons  181673 non-null  object \n",
      " 3   customer       181672 non-null  float64\n",
      " 4   country        181645 non-null  float64\n",
      " 5   status         181671 non-null  object \n",
      " 6   item_type      181673 non-null  object \n",
      " 7   application    181649 non-null  float64\n",
      " 8   thickness      181672 non-null  float64\n",
      " 9   width          181673 non-null  float64\n",
      " 10  material_ref   81028 non-null   object \n",
      " 11  product_ref    181673 non-null  int64  \n",
      " 12  delivery_date  181672 non-null  float64\n",
      " 13  selling_price  181672 non-null  float64\n",
      "dtypes: float64(8), int64(1), object(5)\n",
      "memory usage: 19.4+ MB\n"
     ]
    }
   ],
   "source": [
    "df1.info()"
   ]
  },
  {
   "cell_type": "code",
   "execution_count": 57,
   "metadata": {},
   "outputs": [
    {
     "data": {
      "text/plain": [
       "(181673, 14)"
      ]
     },
     "execution_count": 57,
     "metadata": {},
     "output_type": "execute_result"
    }
   ],
   "source": [
    "df1.shape"
   ]
  },
  {
   "cell_type": "code",
   "execution_count": 58,
   "metadata": {},
   "outputs": [
    {
     "name": "stdout",
     "output_type": "stream",
     "text": [
      "id - 181672\n",
      "item_date - 253\n",
      "quantity_tons - 181673\n",
      "customer - 1170\n",
      "country - 18\n",
      "status - 10\n",
      "item_type - 7\n",
      "application - 31\n",
      "thickness - 595\n",
      "width - 1386\n",
      "material_ref - 11496\n",
      "product_ref - 33\n",
      "delivery_date - 29\n",
      "selling_price - 9796\n"
     ]
    }
   ],
   "source": [
    "for col in df1.columns:\n",
    "    print(f\"{col} - {len(df1[col].unique())}\") \n"
   ]
  },
  {
   "cell_type": "code",
   "execution_count": 59,
   "metadata": {},
   "outputs": [
    {
     "data": {
      "text/plain": [
       "id                    2\n",
       "item_date             1\n",
       "quantity_tons         0\n",
       "customer              1\n",
       "country              28\n",
       "status                2\n",
       "item_type             0\n",
       "application          24\n",
       "thickness             1\n",
       "width                 0\n",
       "material_ref     100645\n",
       "product_ref           0\n",
       "delivery_date         1\n",
       "selling_price         1\n",
       "dtype: int64"
      ]
     },
     "execution_count": 59,
     "metadata": {},
     "output_type": "execute_result"
    }
   ],
   "source": [
    "df1.isnull().sum()"
   ]
  },
  {
   "cell_type": "code",
   "execution_count": 60,
   "metadata": {},
   "outputs": [
    {
     "data": {
      "text/html": [
       "<div>\n",
       "<style scoped>\n",
       "    .dataframe tbody tr th:only-of-type {\n",
       "        vertical-align: middle;\n",
       "    }\n",
       "\n",
       "    .dataframe tbody tr th {\n",
       "        vertical-align: top;\n",
       "    }\n",
       "\n",
       "    .dataframe thead th {\n",
       "        text-align: right;\n",
       "    }\n",
       "</style>\n",
       "<table border=\"1\" class=\"dataframe\">\n",
       "  <thead>\n",
       "    <tr style=\"text-align: right;\">\n",
       "      <th></th>\n",
       "      <th>count</th>\n",
       "      <th>mean</th>\n",
       "      <th>std</th>\n",
       "      <th>min</th>\n",
       "      <th>25%</th>\n",
       "      <th>50%</th>\n",
       "      <th>75%</th>\n",
       "      <th>max</th>\n",
       "    </tr>\n",
       "  </thead>\n",
       "  <tbody>\n",
       "    <tr>\n",
       "      <th>item_date</th>\n",
       "      <td>181672.0</td>\n",
       "      <td>2.020459e+07</td>\n",
       "      <td>4.551119e+03</td>\n",
       "      <td>19950000.00</td>\n",
       "      <td>20200929.0</td>\n",
       "      <td>20201130.0</td>\n",
       "      <td>2.021020e+07</td>\n",
       "      <td>2.021040e+07</td>\n",
       "    </tr>\n",
       "    <tr>\n",
       "      <th>customer</th>\n",
       "      <td>181672.0</td>\n",
       "      <td>3.051221e+07</td>\n",
       "      <td>2.433382e+07</td>\n",
       "      <td>12458.00</td>\n",
       "      <td>30196884.0</td>\n",
       "      <td>30205242.0</td>\n",
       "      <td>3.028042e+07</td>\n",
       "      <td>2.147484e+09</td>\n",
       "    </tr>\n",
       "    <tr>\n",
       "      <th>country</th>\n",
       "      <td>181645.0</td>\n",
       "      <td>4.489302e+01</td>\n",
       "      <td>2.440421e+01</td>\n",
       "      <td>25.00</td>\n",
       "      <td>26.0</td>\n",
       "      <td>30.0</td>\n",
       "      <td>7.800000e+01</td>\n",
       "      <td>1.130000e+02</td>\n",
       "    </tr>\n",
       "    <tr>\n",
       "      <th>application</th>\n",
       "      <td>181649.0</td>\n",
       "      <td>2.561581e+01</td>\n",
       "      <td>1.775417e+01</td>\n",
       "      <td>2.00</td>\n",
       "      <td>10.0</td>\n",
       "      <td>15.0</td>\n",
       "      <td>4.100000e+01</td>\n",
       "      <td>9.900000e+01</td>\n",
       "    </tr>\n",
       "    <tr>\n",
       "      <th>thickness</th>\n",
       "      <td>181672.0</td>\n",
       "      <td>2.564827e+00</td>\n",
       "      <td>6.572321e+00</td>\n",
       "      <td>0.18</td>\n",
       "      <td>0.7</td>\n",
       "      <td>1.5</td>\n",
       "      <td>3.000000e+00</td>\n",
       "      <td>2.500000e+03</td>\n",
       "    </tr>\n",
       "    <tr>\n",
       "      <th>width</th>\n",
       "      <td>181673.0</td>\n",
       "      <td>1.295287e+03</td>\n",
       "      <td>2.616318e+02</td>\n",
       "      <td>1.00</td>\n",
       "      <td>1180.0</td>\n",
       "      <td>1250.0</td>\n",
       "      <td>1.500000e+03</td>\n",
       "      <td>2.990000e+03</td>\n",
       "    </tr>\n",
       "    <tr>\n",
       "      <th>product_ref</th>\n",
       "      <td>181673.0</td>\n",
       "      <td>4.739679e+08</td>\n",
       "      <td>7.175101e+08</td>\n",
       "      <td>611728.00</td>\n",
       "      <td>611993.0</td>\n",
       "      <td>640665.0</td>\n",
       "      <td>1.332077e+09</td>\n",
       "      <td>1.722208e+09</td>\n",
       "    </tr>\n",
       "    <tr>\n",
       "      <th>delivery_date</th>\n",
       "      <td>181672.0</td>\n",
       "      <td>2.020738e+07</td>\n",
       "      <td>2.411059e+04</td>\n",
       "      <td>20190401.00</td>\n",
       "      <td>20201101.0</td>\n",
       "      <td>20210101.0</td>\n",
       "      <td>2.021040e+07</td>\n",
       "      <td>3.031010e+07</td>\n",
       "    </tr>\n",
       "    <tr>\n",
       "      <th>selling_price</th>\n",
       "      <td>181672.0</td>\n",
       "      <td>1.918036e+03</td>\n",
       "      <td>3.317956e+05</td>\n",
       "      <td>-1160.00</td>\n",
       "      <td>669.0</td>\n",
       "      <td>812.0</td>\n",
       "      <td>9.530000e+02</td>\n",
       "      <td>1.000010e+08</td>\n",
       "    </tr>\n",
       "  </tbody>\n",
       "</table>\n",
       "</div>"
      ],
      "text/plain": [
       "                  count          mean           std          min         25%  \\\n",
       "item_date      181672.0  2.020459e+07  4.551119e+03  19950000.00  20200929.0   \n",
       "customer       181672.0  3.051221e+07  2.433382e+07     12458.00  30196884.0   \n",
       "country        181645.0  4.489302e+01  2.440421e+01        25.00        26.0   \n",
       "application    181649.0  2.561581e+01  1.775417e+01         2.00        10.0   \n",
       "thickness      181672.0  2.564827e+00  6.572321e+00         0.18         0.7   \n",
       "width          181673.0  1.295287e+03  2.616318e+02         1.00      1180.0   \n",
       "product_ref    181673.0  4.739679e+08  7.175101e+08    611728.00    611993.0   \n",
       "delivery_date  181672.0  2.020738e+07  2.411059e+04  20190401.00  20201101.0   \n",
       "selling_price  181672.0  1.918036e+03  3.317956e+05     -1160.00       669.0   \n",
       "\n",
       "                      50%           75%           max  \n",
       "item_date      20201130.0  2.021020e+07  2.021040e+07  \n",
       "customer       30205242.0  3.028042e+07  2.147484e+09  \n",
       "country              30.0  7.800000e+01  1.130000e+02  \n",
       "application          15.0  4.100000e+01  9.900000e+01  \n",
       "thickness             1.5  3.000000e+00  2.500000e+03  \n",
       "width              1250.0  1.500000e+03  2.990000e+03  \n",
       "product_ref      640665.0  1.332077e+09  1.722208e+09  \n",
       "delivery_date  20210101.0  2.021040e+07  3.031010e+07  \n",
       "selling_price       812.0  9.530000e+02  1.000010e+08  "
      ]
     },
     "execution_count": 60,
     "metadata": {},
     "output_type": "execute_result"
    }
   ],
   "source": [
    "df1.describe().T"
   ]
  },
  {
   "cell_type": "code",
   "execution_count": 61,
   "metadata": {},
   "outputs": [
    {
     "data": {
      "text/plain": [
       "material_ref\n",
       "DX51D+Z                          922\n",
       "G9010                            856\n",
       "DC01 RED.FLAT KUCHNIA EKO 2.2    777\n",
       "DC01                             725\n",
       "G9006                            671\n",
       "                                ... \n",
       "R501-060 ATL                       1\n",
       "FZPA002067                         1\n",
       "FZPA004301                         1\n",
       "N01-0008526                        1\n",
       "202006170005.IO.1.1                1\n",
       "Name: count, Length: 11495, dtype: int64"
      ]
     },
     "execution_count": 61,
     "metadata": {},
     "output_type": "execute_result"
    }
   ],
   "source": [
    "df1.material_ref.value_counts()"
   ]
  },
  {
   "cell_type": "code",
   "execution_count": 62,
   "metadata": {},
   "outputs": [
    {
     "data": {
      "image/png": "[encoded data removed]",
      "text/plain": [
       "<Figure size 2000x500 with 1 Axes>"
      ]
     },
     "metadata": {},
     "output_type": "display_data"
    },
    {
     "data": {
      "image/png": "[encoded data removed]",
      "text/plain": [
       "<Figure size 640x480 with 1 Axes>"
      ]
     },
     "metadata": {},
     "output_type": "display_data"
    },
    {
     "data": {
      "image/png": "[encoded data removed]",
      "text/plain": [
       "<Figure size 640x480 with 1 Axes>"
      ]
     },
     "metadata": {},
     "output_type": "display_data"
    },
    {
     "data": {
      "image/png": "[encoded data removed]",
      "text/plain": [
       "<Figure size 640x480 with 1 Axes>"
      ]
     },
     "metadata": {},
     "output_type": "display_data"
    },
    {
     "data": {
      "image/png": "[encoded data removed]",
      "text/plain": [
       "<Figure size 640x480 with 1 Axes>"
      ]
     },
     "metadata": {},
     "output_type": "display_data"
    },
    {
     "data": {
      "image/png": "[encoded data removed]",
      "text/plain": [
       "<Figure size 640x480 with 1 Axes>"
      ]
     },
     "metadata": {},
     "output_type": "display_data"
    },
    {
     "data": {
      "image/png": "[encoded data removed]",
      "text/plain": [
       "<Figure size 640x480 with 1 Axes>"
      ]
     },
     "metadata": {},
     "output_type": "display_data"
    }
   ],
   "source": [
    "plt.figure(figsize=(20,5))\n",
    "plt.subplot(1,3,1)\n",
    "sns.boxplot(data=df1,x='country')\n",
    "plt.show()\n",
    "sns.boxplot(data=df1,x='selling_price')\n",
    "plt.show()\n",
    "sns.boxplot(data=df1,x='thickness')\n",
    "plt.show()\n",
    "sns.boxplot(data=df1,x='application')\n",
    "plt.show()\n",
    "sns.boxplot(data=df1,x='status')\n",
    "plt.show()\n",
    "sns.boxplot(data=df1,x='country')\n",
    "plt.show()\n",
    "sns.boxplot(data=df1,x='customer')\n",
    "plt.show()"
   ]
  },
  {
   "cell_type": "code",
   "execution_count": 63,
   "metadata": {},
   "outputs": [],
   "source": [
    "# df1.item_date = df1.item_date.ffill()\n",
    "# df1.delivery_date = df1.delivery_date.bfill()\n",
    "df1.id=df1.id.fillna('NA')\n",
    "df1.status = df1.status.fillna(df1.status.mode()[0])\n",
    "df1.customer=df1.customer.fillna(df1.customer.median())\n",
    "df1.country=df1.country.fillna(df1.country.median())\n",
    "df1.application=df1.application.fillna(df1.application.median())\n",
    "df1.thickness=df1.thickness.fillna(df1.thickness.median())\n",
    "df['material_ref'] = np.where(df['material_ref'].astype(str).str.startswith('00000'), np.nan, df['material_ref'])\n"
   ]
  },
  {
   "cell_type": "code",
   "execution_count": 64,
   "metadata": {},
   "outputs": [
    {
     "name": "stdout",
     "output_type": "stream",
     "text": [
      "id                    0\n",
      "item_date             1\n",
      "quantity_tons         0\n",
      "customer              0\n",
      "country               0\n",
      "status                0\n",
      "item_type             0\n",
      "application           0\n",
      "thickness             0\n",
      "width                 0\n",
      "material_ref     100645\n",
      "product_ref           0\n",
      "delivery_date         1\n",
      "selling_price         1\n",
      "dtype: int64\n",
      "(181673, 14)\n"
     ]
    }
   ],
   "source": [
    "print(df1.isnull().sum())\n",
    "print(df1.shape)"
   ]
  },
  {
   "cell_type": "code",
   "execution_count": 65,
   "metadata": {},
   "outputs": [],
   "source": [
    "type_dict = {'id': 'str', 'quantity_tons': 'float32','customer':'int64','country':'int8','status':'category','item_type':'category','application':'int8',\n",
    "            'thickness':'float32','width':'int32','product_ref':'int64','selling_price':'float64'}\n"
   ]
  },
  {
   "cell_type": "code",
   "execution_count": 66,
   "metadata": {},
   "outputs": [
    {
     "name": "stderr",
     "output_type": "stream",
     "text": [
      "C:\\Users\\sansu\\AppData\\Local\\Temp\\ipykernel_18460\\955684390.py:1: FutureWarning: Downcasting behavior in `replace` is deprecated and will be removed in a future version. To retain the old behavior, explicitly call `result.infer_objects(copy=False)`. To opt-in to the future behavior, set `pd.set_option('future.no_silent_downcasting', True)`\n",
      "  df1.quantity_tons = df1.quantity_tons.replace('e', 0)\n"
     ]
    }
   ],
   "source": [
    "df1.quantity_tons = df1.quantity_tons.replace('e', 0)\n"
   ]
  },
  {
   "cell_type": "code",
   "execution_count": 67,
   "metadata": {},
   "outputs": [
    {
     "name": "stdout",
     "output_type": "stream",
     "text": [
      "item_date -  0\n",
      "quantity_tons -  5\n",
      "customer -  0\n",
      "country -  0\n",
      "application -  0\n",
      "thickness -  0\n",
      "width -  0\n",
      "product_ref -  0\n",
      "delivery_date -  0\n",
      "selling_price -  7\n"
     ]
    }
   ],
   "source": [
    "num=df1.select_dtypes(include=['int','float']).columns\n",
    "for col in num:\n",
    "    print(f\"{col} -  {(df1[col] <= 0).sum()}\")\n"
   ]
  },
  {
   "cell_type": "code",
   "execution_count": 68,
   "metadata": {},
   "outputs": [],
   "source": [
    "col_to_mask=['quantity_tons', 'selling_price']\n",
    "df1[col_to_mask] =df1[col_to_mask] .mask(df1[col_to_mask] <= 0, np.nan)\n"
   ]
  },
  {
   "cell_type": "code",
   "execution_count": 69,
   "metadata": {},
   "outputs": [],
   "source": [
    "\n",
    "df1 = df1.astype(type_dict)\n",
    "\n",
    "df1.item_date = pd.to_datetime(df1.item_date,format='%Y%m%d', errors='coerce').dt.date\n",
    "df1.delivery_date = pd.to_datetime(df1.delivery_date,format='%Y%m%d', errors='coerce').dt.date\n",
    "df1.item_date = df1.item_date.ffill()\n",
    "df1.delivery_date = df1.delivery_date.bfill()\n",
    "df1.item_date=df1.item_date.astype('datetime64[s]')\n",
    "df1.delivery_date=df1.delivery_date.astype('datetime64[ns]')\n",
    "df1.selling_price=df1.selling_price.fillna(df1.selling_price.median())\n",
    "df1.quantity_tons=df1.quantity_tons.fillna(df1.quantity_tons.median())\n",
    "df1 = df1.drop(columns=['material_ref'])"
   ]
  },
  {
   "cell_type": "code",
   "execution_count": 70,
   "metadata": {},
   "outputs": [
    {
     "name": "stdout",
     "output_type": "stream",
     "text": [
      "id               0\n",
      "item_date        0\n",
      "quantity_tons    0\n",
      "customer         0\n",
      "country          0\n",
      "status           0\n",
      "item_type        0\n",
      "application      0\n",
      "thickness        0\n",
      "width            0\n",
      "product_ref      0\n",
      "delivery_date    0\n",
      "selling_price    0\n",
      "dtype: int64\n",
      "<class 'pandas.core.frame.DataFrame'>\n",
      "RangeIndex: 181673 entries, 0 to 181672\n",
      "Data columns (total 13 columns):\n",
      " #   Column         Non-Null Count   Dtype         \n",
      "---  ------         --------------   -----         \n",
      " 0   id             181673 non-null  object        \n",
      " 1   item_date      181673 non-null  datetime64[s] \n",
      " 2   quantity_tons  181673 non-null  float32       \n",
      " 3   customer       181673 non-null  int64         \n",
      " 4   country        181673 non-null  int8          \n",
      " 5   status         181673 non-null  category      \n",
      " 6   item_type      181673 non-null  category      \n",
      " 7   application    181673 non-null  int8          \n",
      " 8   thickness      181673 non-null  float32       \n",
      " 9   width          181673 non-null  int32         \n",
      " 10  product_ref    181673 non-null  int64         \n",
      " 11  delivery_date  181673 non-null  datetime64[ns]\n",
      " 12  selling_price  181673 non-null  float64       \n",
      "dtypes: category(2), datetime64[ns](1), datetime64[s](1), float32(2), float64(1), int32(1), int64(2), int8(2), object(1)\n",
      "memory usage: 11.1+ MB\n"
     ]
    }
   ],
   "source": [
    "print(df1.isnull().sum())\n",
    "df1.info()"
   ]
  },
  {
   "cell_type": "code",
   "execution_count": 71,
   "metadata": {},
   "outputs": [
    {
     "data": {
      "text/html": [
       "<div>\n",
       "<style scoped>\n",
       "    .dataframe tbody tr th:only-of-type {\n",
       "        vertical-align: middle;\n",
       "    }\n",
       "\n",
       "    .dataframe tbody tr th {\n",
       "        vertical-align: top;\n",
       "    }\n",
       "\n",
       "    .dataframe thead th {\n",
       "        text-align: right;\n",
       "    }\n",
       "</style>\n",
       "<table border=\"1\" class=\"dataframe\">\n",
       "  <thead>\n",
       "    <tr style=\"text-align: right;\">\n",
       "      <th></th>\n",
       "      <th>count</th>\n",
       "      <th>mean</th>\n",
       "      <th>min</th>\n",
       "      <th>25%</th>\n",
       "      <th>50%</th>\n",
       "      <th>75%</th>\n",
       "      <th>max</th>\n",
       "      <th>std</th>\n",
       "    </tr>\n",
       "  </thead>\n",
       "  <tbody>\n",
       "    <tr>\n",
       "      <th>item_date</th>\n",
       "      <td>181673</td>\n",
       "      <td>2020-11-26 22:57:42</td>\n",
       "      <td>2020-07-02 00:00:00</td>\n",
       "      <td>2020-09-29 00:00:00</td>\n",
       "      <td>2020-11-30 00:00:00</td>\n",
       "      <td>2021-02-03 00:00:00</td>\n",
       "      <td>2021-04-01 00:00:00</td>\n",
       "      <td>NaN</td>\n",
       "    </tr>\n",
       "    <tr>\n",
       "      <th>quantity_tons</th>\n",
       "      <td>181673.0</td>\n",
       "      <td>5874.905762</td>\n",
       "      <td>0.00001</td>\n",
       "      <td>10.971669</td>\n",
       "      <td>30.365013</td>\n",
       "      <td>67.160385</td>\n",
       "      <td>1000000000.0</td>\n",
       "      <td>2349074.75</td>\n",
       "    </tr>\n",
       "    <tr>\n",
       "      <th>customer</th>\n",
       "      <td>181673.0</td>\n",
       "      <td>30512207.3383</td>\n",
       "      <td>12458.0</td>\n",
       "      <td>30196884.0</td>\n",
       "      <td>30205242.0</td>\n",
       "      <td>30280416.0</td>\n",
       "      <td>2147483647.0</td>\n",
       "      <td>24333748.622752</td>\n",
       "    </tr>\n",
       "    <tr>\n",
       "      <th>country</th>\n",
       "      <td>181673.0</td>\n",
       "      <td>44.890727</td>\n",
       "      <td>25.0</td>\n",
       "      <td>26.0</td>\n",
       "      <td>30.0</td>\n",
       "      <td>78.0</td>\n",
       "      <td>113.0</td>\n",
       "      <td>24.403034</td>\n",
       "    </tr>\n",
       "    <tr>\n",
       "      <th>application</th>\n",
       "      <td>181673.0</td>\n",
       "      <td>25.614406</td>\n",
       "      <td>2.0</td>\n",
       "      <td>10.0</td>\n",
       "      <td>15.0</td>\n",
       "      <td>41.0</td>\n",
       "      <td>99.0</td>\n",
       "      <td>17.753421</td>\n",
       "    </tr>\n",
       "    <tr>\n",
       "      <th>thickness</th>\n",
       "      <td>181673.0</td>\n",
       "      <td>2.564822</td>\n",
       "      <td>0.18</td>\n",
       "      <td>0.7</td>\n",
       "      <td>1.5</td>\n",
       "      <td>3.0</td>\n",
       "      <td>2500.0</td>\n",
       "      <td>6.572303</td>\n",
       "    </tr>\n",
       "    <tr>\n",
       "      <th>width</th>\n",
       "      <td>181673.0</td>\n",
       "      <td>1295.285898</td>\n",
       "      <td>1.0</td>\n",
       "      <td>1180.0</td>\n",
       "      <td>1250.0</td>\n",
       "      <td>1500.0</td>\n",
       "      <td>2990.0</td>\n",
       "      <td>261.634673</td>\n",
       "    </tr>\n",
       "    <tr>\n",
       "      <th>product_ref</th>\n",
       "      <td>181673.0</td>\n",
       "      <td>473967910.724318</td>\n",
       "      <td>611728.0</td>\n",
       "      <td>611993.0</td>\n",
       "      <td>640665.0</td>\n",
       "      <td>1332077137.0</td>\n",
       "      <td>1722207579.0</td>\n",
       "      <td>717510064.710402</td>\n",
       "    </tr>\n",
       "    <tr>\n",
       "      <th>delivery_date</th>\n",
       "      <td>181673</td>\n",
       "      <td>2021-01-25 22:44:33.431935232</td>\n",
       "      <td>2019-04-01 00:00:00</td>\n",
       "      <td>2020-11-01 00:00:00</td>\n",
       "      <td>2021-01-01 00:00:00</td>\n",
       "      <td>2021-04-01 00:00:00</td>\n",
       "      <td>2022-01-01 00:00:00</td>\n",
       "      <td>NaN</td>\n",
       "    </tr>\n",
       "    <tr>\n",
       "      <th>selling_price</th>\n",
       "      <td>181673.0</td>\n",
       "      <td>1918.075544</td>\n",
       "      <td>0.1</td>\n",
       "      <td>669.0</td>\n",
       "      <td>812.0</td>\n",
       "      <td>953.0</td>\n",
       "      <td>100001015.0</td>\n",
       "      <td>331794.729145</td>\n",
       "    </tr>\n",
       "  </tbody>\n",
       "</table>\n",
       "</div>"
      ],
      "text/plain": [
       "                  count                           mean                  min  \\\n",
       "item_date        181673            2020-11-26 22:57:42  2020-07-02 00:00:00   \n",
       "quantity_tons  181673.0                    5874.905762              0.00001   \n",
       "customer       181673.0                  30512207.3383              12458.0   \n",
       "country        181673.0                      44.890727                 25.0   \n",
       "application    181673.0                      25.614406                  2.0   \n",
       "thickness      181673.0                       2.564822                 0.18   \n",
       "width          181673.0                    1295.285898                  1.0   \n",
       "product_ref    181673.0               473967910.724318             611728.0   \n",
       "delivery_date    181673  2021-01-25 22:44:33.431935232  2019-04-01 00:00:00   \n",
       "selling_price  181673.0                    1918.075544                  0.1   \n",
       "\n",
       "                               25%                  50%                  75%  \\\n",
       "item_date      2020-09-29 00:00:00  2020-11-30 00:00:00  2021-02-03 00:00:00   \n",
       "quantity_tons            10.971669            30.365013            67.160385   \n",
       "customer                30196884.0           30205242.0           30280416.0   \n",
       "country                       26.0                 30.0                 78.0   \n",
       "application                   10.0                 15.0                 41.0   \n",
       "thickness                      0.7                  1.5                  3.0   \n",
       "width                       1180.0               1250.0               1500.0   \n",
       "product_ref               611993.0             640665.0         1332077137.0   \n",
       "delivery_date  2020-11-01 00:00:00  2021-01-01 00:00:00  2021-04-01 00:00:00   \n",
       "selling_price                669.0                812.0                953.0   \n",
       "\n",
       "                               max               std  \n",
       "item_date      2021-04-01 00:00:00               NaN  \n",
       "quantity_tons         1000000000.0        2349074.75  \n",
       "customer              2147483647.0   24333748.622752  \n",
       "country                      113.0         24.403034  \n",
       "application                   99.0         17.753421  \n",
       "thickness                   2500.0          6.572303  \n",
       "width                       2990.0        261.634673  \n",
       "product_ref           1722207579.0  717510064.710402  \n",
       "delivery_date  2022-01-01 00:00:00               NaN  \n",
       "selling_price          100001015.0     331794.729145  "
      ]
     },
     "execution_count": 71,
     "metadata": {},
     "output_type": "execute_result"
    }
   ],
   "source": [
    "df1.describe().T\n"
   ]
  },
  {
   "cell_type": "code",
   "execution_count": null,
   "metadata": {},
   "outputs": [],
   "source": []
  },
  {
   "cell_type": "code",
   "execution_count": 72,
   "metadata": {},
   "outputs": [
    {
     "name": "stdout",
     "output_type": "stream",
     "text": [
      "id               0\n",
      "item_date        0\n",
      "quantity_tons    0\n",
      "customer         0\n",
      "country          0\n",
      "status           0\n",
      "item_type        0\n",
      "application      0\n",
      "thickness        0\n",
      "width            0\n",
      "product_ref      0\n",
      "delivery_date    0\n",
      "selling_price    0\n",
      "dtype: int64\n",
      "(181673, 13)\n"
     ]
    }
   ],
   "source": [
    "\n",
    "print(df1.isnull().sum())\n",
    "print(df1.shape)"
   ]
  },
  {
   "cell_type": "code",
   "execution_count": 73,
   "metadata": {},
   "outputs": [
    {
     "data": {
      "text/html": [
       "<div>\n",
       "<style scoped>\n",
       "    .dataframe tbody tr th:only-of-type {\n",
       "        vertical-align: middle;\n",
       "    }\n",
       "\n",
       "    .dataframe tbody tr th {\n",
       "        vertical-align: top;\n",
       "    }\n",
       "\n",
       "    .dataframe thead th {\n",
       "        text-align: right;\n",
       "    }\n",
       "</style>\n",
       "<table border=\"1\" class=\"dataframe\">\n",
       "  <thead>\n",
       "    <tr style=\"text-align: right;\">\n",
       "      <th></th>\n",
       "      <th>count</th>\n",
       "      <th>mean</th>\n",
       "      <th>min</th>\n",
       "      <th>25%</th>\n",
       "      <th>50%</th>\n",
       "      <th>75%</th>\n",
       "      <th>max</th>\n",
       "      <th>std</th>\n",
       "    </tr>\n",
       "  </thead>\n",
       "  <tbody>\n",
       "    <tr>\n",
       "      <th>item_date</th>\n",
       "      <td>181673</td>\n",
       "      <td>2020-11-26 22:57:42</td>\n",
       "      <td>2020-07-02 00:00:00</td>\n",
       "      <td>2020-09-29 00:00:00</td>\n",
       "      <td>2020-11-30 00:00:00</td>\n",
       "      <td>2021-02-03 00:00:00</td>\n",
       "      <td>2021-04-01 00:00:00</td>\n",
       "      <td>NaN</td>\n",
       "    </tr>\n",
       "    <tr>\n",
       "      <th>quantity_tons</th>\n",
       "      <td>181673.0</td>\n",
       "      <td>5874.905762</td>\n",
       "      <td>0.00001</td>\n",
       "      <td>10.971669</td>\n",
       "      <td>30.365013</td>\n",
       "      <td>67.160385</td>\n",
       "      <td>1000000000.0</td>\n",
       "      <td>2349074.75</td>\n",
       "    </tr>\n",
       "    <tr>\n",
       "      <th>customer</th>\n",
       "      <td>181673.0</td>\n",
       "      <td>30512207.3383</td>\n",
       "      <td>12458.0</td>\n",
       "      <td>30196884.0</td>\n",
       "      <td>30205242.0</td>\n",
       "      <td>30280416.0</td>\n",
       "      <td>2147483647.0</td>\n",
       "      <td>24333748.622752</td>\n",
       "    </tr>\n",
       "    <tr>\n",
       "      <th>country</th>\n",
       "      <td>181673.0</td>\n",
       "      <td>44.890727</td>\n",
       "      <td>25.0</td>\n",
       "      <td>26.0</td>\n",
       "      <td>30.0</td>\n",
       "      <td>78.0</td>\n",
       "      <td>113.0</td>\n",
       "      <td>24.403034</td>\n",
       "    </tr>\n",
       "    <tr>\n",
       "      <th>application</th>\n",
       "      <td>181673.0</td>\n",
       "      <td>25.614406</td>\n",
       "      <td>2.0</td>\n",
       "      <td>10.0</td>\n",
       "      <td>15.0</td>\n",
       "      <td>41.0</td>\n",
       "      <td>99.0</td>\n",
       "      <td>17.753421</td>\n",
       "    </tr>\n",
       "    <tr>\n",
       "      <th>thickness</th>\n",
       "      <td>181673.0</td>\n",
       "      <td>2.564822</td>\n",
       "      <td>0.18</td>\n",
       "      <td>0.7</td>\n",
       "      <td>1.5</td>\n",
       "      <td>3.0</td>\n",
       "      <td>2500.0</td>\n",
       "      <td>6.572303</td>\n",
       "    </tr>\n",
       "    <tr>\n",
       "      <th>width</th>\n",
       "      <td>181673.0</td>\n",
       "      <td>1295.285898</td>\n",
       "      <td>1.0</td>\n",
       "      <td>1180.0</td>\n",
       "      <td>1250.0</td>\n",
       "      <td>1500.0</td>\n",
       "      <td>2990.0</td>\n",
       "      <td>261.634673</td>\n",
       "    </tr>\n",
       "    <tr>\n",
       "      <th>product_ref</th>\n",
       "      <td>181673.0</td>\n",
       "      <td>473967910.724318</td>\n",
       "      <td>611728.0</td>\n",
       "      <td>611993.0</td>\n",
       "      <td>640665.0</td>\n",
       "      <td>1332077137.0</td>\n",
       "      <td>1722207579.0</td>\n",
       "      <td>717510064.710402</td>\n",
       "    </tr>\n",
       "    <tr>\n",
       "      <th>delivery_date</th>\n",
       "      <td>181673</td>\n",
       "      <td>2021-01-25 22:44:33.431935232</td>\n",
       "      <td>2019-04-01 00:00:00</td>\n",
       "      <td>2020-11-01 00:00:00</td>\n",
       "      <td>2021-01-01 00:00:00</td>\n",
       "      <td>2021-04-01 00:00:00</td>\n",
       "      <td>2022-01-01 00:00:00</td>\n",
       "      <td>NaN</td>\n",
       "    </tr>\n",
       "    <tr>\n",
       "      <th>selling_price</th>\n",
       "      <td>181673.0</td>\n",
       "      <td>1918.075544</td>\n",
       "      <td>0.1</td>\n",
       "      <td>669.0</td>\n",
       "      <td>812.0</td>\n",
       "      <td>953.0</td>\n",
       "      <td>100001015.0</td>\n",
       "      <td>331794.729145</td>\n",
       "    </tr>\n",
       "  </tbody>\n",
       "</table>\n",
       "</div>"
      ],
      "text/plain": [
       "                  count                           mean                  min  \\\n",
       "item_date        181673            2020-11-26 22:57:42  2020-07-02 00:00:00   \n",
       "quantity_tons  181673.0                    5874.905762              0.00001   \n",
       "customer       181673.0                  30512207.3383              12458.0   \n",
       "country        181673.0                      44.890727                 25.0   \n",
       "application    181673.0                      25.614406                  2.0   \n",
       "thickness      181673.0                       2.564822                 0.18   \n",
       "width          181673.0                    1295.285898                  1.0   \n",
       "product_ref    181673.0               473967910.724318             611728.0   \n",
       "delivery_date    181673  2021-01-25 22:44:33.431935232  2019-04-01 00:00:00   \n",
       "selling_price  181673.0                    1918.075544                  0.1   \n",
       "\n",
       "                               25%                  50%                  75%  \\\n",
       "item_date      2020-09-29 00:00:00  2020-11-30 00:00:00  2021-02-03 00:00:00   \n",
       "quantity_tons            10.971669            30.365013            67.160385   \n",
       "customer                30196884.0           30205242.0           30280416.0   \n",
       "country                       26.0                 30.0                 78.0   \n",
       "application                   10.0                 15.0                 41.0   \n",
       "thickness                      0.7                  1.5                  3.0   \n",
       "width                       1180.0               1250.0               1500.0   \n",
       "product_ref               611993.0             640665.0         1332077137.0   \n",
       "delivery_date  2020-11-01 00:00:00  2021-01-01 00:00:00  2021-04-01 00:00:00   \n",
       "selling_price                669.0                812.0                953.0   \n",
       "\n",
       "                               max               std  \n",
       "item_date      2021-04-01 00:00:00               NaN  \n",
       "quantity_tons         1000000000.0        2349074.75  \n",
       "customer              2147483647.0   24333748.622752  \n",
       "country                      113.0         24.403034  \n",
       "application                   99.0         17.753421  \n",
       "thickness                   2500.0          6.572303  \n",
       "width                       2990.0        261.634673  \n",
       "product_ref           1722207579.0  717510064.710402  \n",
       "delivery_date  2022-01-01 00:00:00               NaN  \n",
       "selling_price          100001015.0     331794.729145  "
      ]
     },
     "execution_count": 73,
     "metadata": {},
     "output_type": "execute_result"
    }
   ],
   "source": [
    "df1.describe().T\n"
   ]
  },
  {
   "cell_type": "code",
   "execution_count": 74,
   "metadata": {},
   "outputs": [
    {
     "name": "stdout",
     "output_type": "stream",
     "text": [
      "0\n",
      "<class 'pandas.core.frame.DataFrame'>\n",
      "RangeIndex: 181673 entries, 0 to 181672\n",
      "Data columns (total 13 columns):\n",
      " #   Column         Non-Null Count   Dtype         \n",
      "---  ------         --------------   -----         \n",
      " 0   id             181673 non-null  object        \n",
      " 1   item_date      181673 non-null  datetime64[s] \n",
      " 2   quantity_tons  181673 non-null  float32       \n",
      " 3   customer       181673 non-null  int64         \n",
      " 4   country        181673 non-null  int8          \n",
      " 5   status         181673 non-null  category      \n",
      " 6   item_type      181673 non-null  category      \n",
      " 7   application    181673 non-null  int8          \n",
      " 8   thickness      181673 non-null  float32       \n",
      " 9   width          181673 non-null  int32         \n",
      " 10  product_ref    181673 non-null  int64         \n",
      " 11  delivery_date  181673 non-null  datetime64[ns]\n",
      " 12  selling_price  181673 non-null  float64       \n",
      "dtypes: category(2), datetime64[ns](1), datetime64[s](1), float32(2), float64(1), int32(1), int64(2), int8(2), object(1)\n",
      "memory usage: 11.1+ MB\n",
      "None\n"
     ]
    }
   ],
   "source": [
    "print(df1.duplicated().sum())\n",
    "print(df1.info())"
   ]
  },
  {
   "cell_type": "code",
   "execution_count": 75,
   "metadata": {},
   "outputs": [
    {
     "data": {
      "text/plain": [
       "['Won', 'Draft', 'To be approved', 'Lost', 'Not lost for AM', 'Wonderful', 'Revised', 'Offered', 'Offerable']\n",
       "Categories (9, object): ['Draft', 'Lost', 'Not lost for AM', 'Offerable', ..., 'Revised', 'To be approved', 'Won', 'Wonderful']"
      ]
     },
     "execution_count": 75,
     "metadata": {},
     "output_type": "execute_result"
    }
   ],
   "source": [
    "df1.status.unique()"
   ]
  },
  {
   "cell_type": "code",
   "execution_count": 76,
   "metadata": {},
   "outputs": [
    {
     "data": {
      "text/plain": [
       "status\n",
       "Won                116012\n",
       "Lost                34438\n",
       "Not lost for AM     19573\n",
       "Revised              4276\n",
       "To be approved       4170\n",
       "Draft                3140\n",
       "Offered                53\n",
       "Offerable              10\n",
       "Wonderful               1\n",
       "Name: count, dtype: int64"
      ]
     },
     "execution_count": 76,
     "metadata": {},
     "output_type": "execute_result"
    }
   ],
   "source": [
    "df1.status.value_counts()"
   ]
  },
  {
   "cell_type": "code",
   "execution_count": null,
   "metadata": {},
   "outputs": [],
   "source": []
  },
  {
   "cell_type": "code",
   "execution_count": null,
   "metadata": {},
   "outputs": [],
   "source": []
  }
 ],
 "metadata": {
  "kernelspec": {
   "display_name": "Python 3 (ipykernel)",
   "language": "python",
   "name": "python3"
  },
  "language_info": {
   "codemirror_mode": {
    "name": "ipython",
    "version": 3
   },
   "file_extension": ".py",
   "mimetype": "text/x-python",
   "name": "python",
   "nbconvert_exporter": "python",
   "pygments_lexer": "ipython3",
   "version": "3.11.5"
  }
 },
 "nbformat": 4,
 "nbformat_minor": 4
}
